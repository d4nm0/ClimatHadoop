{
 "cells": [
  {
   "cell_type": "code",
   "execution_count": 14,
   "id": "2b707ba0",
   "metadata": {},
   "outputs": [
    {
     "name": "stdout",
     "output_type": "stream",
     "text": [
      "Defaulting to user installation because normal site-packages is not writeable\n",
      "Requirement already satisfied: pandas in /Users/danmonceau/Library/Python/3.8/lib/python/site-packages (1.4.2)\n",
      "Requirement already satisfied: numpy>=1.18.5 in /Users/danmonceau/Library/Python/3.8/lib/python/site-packages (from pandas) (1.22.3)\n",
      "Requirement already satisfied: python-dateutil>=2.8.1 in /Users/danmonceau/Library/Python/3.8/lib/python/site-packages (from pandas) (2.8.2)\n",
      "Requirement already satisfied: pytz>=2020.1 in /Users/danmonceau/Library/Python/3.8/lib/python/site-packages (from pandas) (2022.1)\n",
      "Requirement already satisfied: six>=1.5 in /Library/Developer/CommandLineTools/Library/Frameworks/Python3.framework/Versions/3.8/lib/python3.8/site-packages (from python-dateutil>=2.8.1->pandas) (1.15.0)\n",
      "Defaulting to user installation because normal site-packages is not writeable\n",
      "Requirement already satisfied: folium in /Users/danmonceau/Library/Python/3.8/lib/python/site-packages (0.12.1.post1)\n",
      "Requirement already satisfied: numpy in /Users/danmonceau/Library/Python/3.8/lib/python/site-packages (from folium) (1.22.3)\n",
      "Requirement already satisfied: branca>=0.3.0 in /Users/danmonceau/Library/Python/3.8/lib/python/site-packages (from folium) (0.5.0)\n",
      "Requirement already satisfied: jinja2>=2.9 in /Users/danmonceau/Library/Python/3.8/lib/python/site-packages (from folium) (3.1.2)\n",
      "Requirement already satisfied: requests in /Users/danmonceau/Library/Python/3.8/lib/python/site-packages (from folium) (2.27.1)\n",
      "Requirement already satisfied: MarkupSafe>=2.0 in /Users/danmonceau/Library/Python/3.8/lib/python/site-packages (from jinja2>=2.9->folium) (2.1.1)\n",
      "Requirement already satisfied: idna<4,>=2.5 in /Users/danmonceau/Library/Python/3.8/lib/python/site-packages (from requests->folium) (3.3)\n",
      "Requirement already satisfied: charset-normalizer~=2.0.0 in /Users/danmonceau/Library/Python/3.8/lib/python/site-packages (from requests->folium) (2.0.12)\n",
      "Requirement already satisfied: certifi>=2017.4.17 in /Users/danmonceau/Library/Python/3.8/lib/python/site-packages (from requests->folium) (2021.10.8)\n",
      "Requirement already satisfied: urllib3<1.27,>=1.21.1 in /Users/danmonceau/Library/Python/3.8/lib/python/site-packages (from requests->folium) (1.26.9)\n",
      "Defaulting to user installation because normal site-packages is not writeable\n",
      "Requirement already satisfied: dask in /Users/danmonceau/Library/Python/3.8/lib/python/site-packages (2022.5.0)\n",
      "Requirement already satisfied: fsspec>=0.6.0 in /Users/danmonceau/Library/Python/3.8/lib/python/site-packages (from dask) (2022.3.0)\n",
      "Requirement already satisfied: packaging>=20.0 in /Users/danmonceau/Library/Python/3.8/lib/python/site-packages (from dask) (21.3)\n",
      "Requirement already satisfied: pyyaml>=5.3.1 in /Users/danmonceau/Library/Python/3.8/lib/python/site-packages (from dask) (6.0)\n",
      "Requirement already satisfied: cloudpickle>=1.1.1 in /Users/danmonceau/Library/Python/3.8/lib/python/site-packages (from dask) (2.0.0)\n",
      "Requirement already satisfied: toolz>=0.8.2 in /Users/danmonceau/Library/Python/3.8/lib/python/site-packages (from dask) (0.11.2)\n",
      "Requirement already satisfied: partd>=0.3.10 in /Users/danmonceau/Library/Python/3.8/lib/python/site-packages (from dask) (1.2.0)\n",
      "Requirement already satisfied: pyparsing!=3.0.5,>=2.0.2 in /Users/danmonceau/Library/Python/3.8/lib/python/site-packages (from packaging>=20.0->dask) (3.0.8)\n",
      "Requirement already satisfied: locket in /Users/danmonceau/Library/Python/3.8/lib/python/site-packages (from partd>=0.3.10->dask) (1.0.0)\n",
      "Defaulting to user installation because normal site-packages is not writeable\n",
      "Requirement already satisfied: dask[distributed] in /Users/danmonceau/Library/Python/3.8/lib/python/site-packages (2022.5.0)\n",
      "Requirement already satisfied: pyyaml>=5.3.1 in /Users/danmonceau/Library/Python/3.8/lib/python/site-packages (from dask[distributed]) (6.0)\n",
      "Requirement already satisfied: toolz>=0.8.2 in /Users/danmonceau/Library/Python/3.8/lib/python/site-packages (from dask[distributed]) (0.11.2)\n",
      "Requirement already satisfied: packaging>=20.0 in /Users/danmonceau/Library/Python/3.8/lib/python/site-packages (from dask[distributed]) (21.3)\n",
      "Requirement already satisfied: fsspec>=0.6.0 in /Users/danmonceau/Library/Python/3.8/lib/python/site-packages (from dask[distributed]) (2022.3.0)\n",
      "Requirement already satisfied: partd>=0.3.10 in /Users/danmonceau/Library/Python/3.8/lib/python/site-packages (from dask[distributed]) (1.2.0)\n",
      "Requirement already satisfied: cloudpickle>=1.1.1 in /Users/danmonceau/Library/Python/3.8/lib/python/site-packages (from dask[distributed]) (2.0.0)\n",
      "Requirement already satisfied: distributed==2022.05.0 in /Users/danmonceau/Library/Python/3.8/lib/python/site-packages (from dask[distributed]) (2022.5.0)\n",
      "Requirement already satisfied: zict>=0.1.3 in /Users/danmonceau/Library/Python/3.8/lib/python/site-packages (from distributed==2022.05.0->dask[distributed]) (2.2.0)\n",
      "Requirement already satisfied: tornado>=6.0.3 in /Users/danmonceau/Library/Python/3.8/lib/python/site-packages (from distributed==2022.05.0->dask[distributed]) (6.1)\n",
      "Requirement already satisfied: psutil>=5.0 in /Users/danmonceau/Library/Python/3.8/lib/python/site-packages (from distributed==2022.05.0->dask[distributed]) (5.9.0)\n",
      "Requirement already satisfied: jinja2 in /Users/danmonceau/Library/Python/3.8/lib/python/site-packages (from distributed==2022.05.0->dask[distributed]) (3.1.2)\n",
      "Requirement already satisfied: tblib>=1.6.0 in /Users/danmonceau/Library/Python/3.8/lib/python/site-packages (from distributed==2022.05.0->dask[distributed]) (1.7.0)\n",
      "Requirement already satisfied: urllib3 in /Users/danmonceau/Library/Python/3.8/lib/python/site-packages (from distributed==2022.05.0->dask[distributed]) (1.26.9)\n",
      "Requirement already satisfied: click>=6.6 in /Users/danmonceau/Library/Python/3.8/lib/python/site-packages (from distributed==2022.05.0->dask[distributed]) (8.1.3)\n",
      "Requirement already satisfied: sortedcontainers!=2.0.0,!=2.0.1 in /Users/danmonceau/Library/Python/3.8/lib/python/site-packages (from distributed==2022.05.0->dask[distributed]) (2.4.0)\n",
      "Requirement already satisfied: locket>=1.0.0 in /Users/danmonceau/Library/Python/3.8/lib/python/site-packages (from distributed==2022.05.0->dask[distributed]) (1.0.0)\n",
      "Requirement already satisfied: msgpack>=0.6.0 in /Users/danmonceau/Library/Python/3.8/lib/python/site-packages (from distributed==2022.05.0->dask[distributed]) (1.0.3)\n",
      "Requirement already satisfied: pyparsing!=3.0.5,>=2.0.2 in /Users/danmonceau/Library/Python/3.8/lib/python/site-packages (from packaging>=20.0->dask[distributed]) (3.0.8)\n",
      "Requirement already satisfied: heapdict in /Users/danmonceau/Library/Python/3.8/lib/python/site-packages (from zict>=0.1.3->distributed==2022.05.0->dask[distributed]) (1.0.1)\n",
      "Requirement already satisfied: MarkupSafe>=2.0 in /Users/danmonceau/Library/Python/3.8/lib/python/site-packages (from jinja2->distributed==2022.05.0->dask[distributed]) (2.1.1)\n"
     ]
    }
   ],
   "source": [
    "!pip3 install pandas\n",
    "!pip3 install folium\n",
    "!pip3 install dask\n",
    "!pip3 install \"dask[distributed]\" --upgrade"
   ]
  },
  {
   "cell_type": "code",
   "execution_count": 15,
   "id": "c92c80ce",
   "metadata": {},
   "outputs": [],
   "source": [
    "import pandas as pd\n",
    "import folium\n",
    "import requests\n",
    "import os\n",
    "import dask\n",
    "from time import sleep\n",
    "from dask import delayed\n",
    "from dask.distributed import Client\n",
    "import dask.dataframe as dd"
   ]
  },
  {
   "cell_type": "code",
   "execution_count": 16,
   "id": "6ec20022",
   "metadata": {},
   "outputs": [],
   "source": [
    "df_station = pd.read_csv(\"./isd-history.csv\")\n",
    "df_station\n",
    "open_station = df_station[df_station[\"END\"] == 20220502]"
   ]
  },
  {
   "cell_type": "code",
   "execution_count": 17,
   "id": "e7af35e0",
   "metadata": {},
   "outputs": [
    {
     "ename": "NameError",
     "evalue": "name 'df' is not defined",
     "output_type": "error",
     "traceback": [
      "\u001b[0;31m---------------------------------------------------------------------------\u001b[0m",
      "\u001b[0;31mNameError\u001b[0m                                 Traceback (most recent call last)",
      "\u001b[1;32m/Users/danmonceau/Library/Mobile Documents/com~apple~CloudDocs/Cours M1/Hadoop_Project_mai_2022/python temp/Back/index.ipynb Cell 4'\u001b[0m in \u001b[0;36m<cell line: 2>\u001b[0;34m()\u001b[0m\n\u001b[1;32m      <a href='vscode-notebook-cell:/Users/danmonceau/Library/Mobile%20Documents/com~apple~CloudDocs/Cours%20M1/Hadoop_Project_mai_2022/python%20temp/Back/index.ipynb#ch0000002?line=0'>1</a>\u001b[0m \u001b[39m#df = pd.read_csv(\"data/2022/72011354829.csv\")\u001b[39;00m\n\u001b[0;32m----> <a href='vscode-notebook-cell:/Users/danmonceau/Library/Mobile%20Documents/com~apple~CloudDocs/Cours%20M1/Hadoop_Project_mai_2022/python%20temp/Back/index.ipynb#ch0000002?line=1'>2</a>\u001b[0m df\u001b[39m.\u001b[39mdtypes\n",
      "\u001b[0;31mNameError\u001b[0m: name 'df' is not defined"
     ]
    }
   ],
   "source": [
    "#df = pd.read_csv(\"data/2022/72011354829.csv\")\n",
    "#df.dtypes"
   ]
  },
  {
   "cell_type": "code",
   "execution_count": null,
   "id": "fe10e0da",
   "metadata": {},
   "outputs": [],
   "source": [
    "dtypes = {\n",
    "'STATION':         int,\n",
    "'DATE':           object,\n",
    "'SOURCE':         object,\n",
    "'LATITUDE':      float,\n",
    "'LONGITUDE':     float,\n",
    "'ELEVATION':     float,\n",
    "'NAME':           object,\n",
    "'REPORT_TYPE':    object,\n",
    "'CALL_SIGN':      object,\n",
    "'QUALITY_CONTROL':object,\n",
    "'WND':            object,\n",
    "'CIG':            object,\n",
    "'VIS':            object,\n",
    "'TMP':            object,\n",
    "'DEW':            object,\n",
    "'SLP':            object,\n",
    "'AA1':            object,\n",
    "'AT1':            object,\n",
    "'AT2':            object,\n",
    "'AT3':            object,\n",
    "'AT4':            object,\n",
    "'AT5':            object,\n",
    "'AU1':            object,\n",
    "'AW1':            object,\n",
    "'OC1':            object,\n",
    "'REM':            object,\n",
    "'EQD':            object\n",
    "}"
   ]
  },
  {
   "cell_type": "markdown",
   "metadata": {},
   "source": [
    "client = Client(n_workers=4)"
   ]
  },
  {
   "cell_type": "code",
   "execution_count": null,
   "id": "9fc260e0",
   "metadata": {},
   "outputs": [
    {
     "ename": "KeyboardInterrupt",
     "evalue": "",
     "output_type": "error",
     "traceback": [
      "\u001b[0;31m---------------------------------------------------------------------------\u001b[0m",
      "\u001b[0;31mKeyboardInterrupt\u001b[0m                         Traceback (most recent call last)",
      "\u001b[1;32m/Users/lex/Documents/code/data_lake/index.ipynb Cell 6'\u001b[0m in \u001b[0;36m<cell line: 1>\u001b[0;34m()\u001b[0m\n\u001b[1;32m     <a href='vscode-notebook-cell:/Users/lex/Documents/code/data_lake/index.ipynb#ch0000002?line=18'>19</a>\u001b[0m \u001b[39mif\u001b[39;00m (requests\u001b[39m.\u001b[39mget(url)\u001b[39m.\u001b[39mstatus_code \u001b[39m==\u001b[39m \u001b[39m200\u001b[39m):\n\u001b[1;32m     <a href='vscode-notebook-cell:/Users/lex/Documents/code/data_lake/index.ipynb#ch0000002?line=19'>20</a>\u001b[0m     \u001b[39m#df = pd.read_csv(url)\u001b[39;00m\n\u001b[1;32m     <a href='vscode-notebook-cell:/Users/lex/Documents/code/data_lake/index.ipynb#ch0000002?line=20'>21</a>\u001b[0m     ddf \u001b[39m=\u001b[39m dd\u001b[39m.\u001b[39mread_csv(url, dtype\u001b[39m=\u001b[39m\u001b[39m'\u001b[39m\u001b[39mobject\u001b[39m\u001b[39m'\u001b[39m)\n\u001b[0;32m---> <a href='vscode-notebook-cell:/Users/lex/Documents/code/data_lake/index.ipynb#ch0000002?line=21'>22</a>\u001b[0m     ddf\u001b[39m.\u001b[39;49mto_csv(path \u001b[39m+\u001b[39;49m \u001b[39m\"\u001b[39;49m\u001b[39m/\u001b[39;49m\u001b[39m\"\u001b[39;49m \u001b[39m+\u001b[39;49m station \u001b[39m+\u001b[39;49m \u001b[39m\"\u001b[39;49m\u001b[39m.csv\u001b[39;49m\u001b[39m\"\u001b[39;49m, index\u001b[39m=\u001b[39;49m\u001b[39mTrue\u001b[39;49;00m, single_file \u001b[39m=\u001b[39;49m \u001b[39mTrue\u001b[39;49;00m)\n",
      "File \u001b[0;32m/opt/homebrew/lib/python3.9/site-packages/dask/dataframe/core.py:1650\u001b[0m, in \u001b[0;36m_Frame.to_csv\u001b[0;34m(self, filename, **kwargs)\u001b[0m\n\u001b[1;32m   <a href='file:///opt/homebrew/lib/python3.9/site-packages/dask/dataframe/core.py?line=1646'>1647</a>\u001b[0m \u001b[39m\"\"\"See dd.to_csv docstring for more information\"\"\"\u001b[39;00m\n\u001b[1;32m   <a href='file:///opt/homebrew/lib/python3.9/site-packages/dask/dataframe/core.py?line=1647'>1648</a>\u001b[0m \u001b[39mfrom\u001b[39;00m \u001b[39mdask\u001b[39;00m\u001b[39m.\u001b[39;00m\u001b[39mdataframe\u001b[39;00m\u001b[39m.\u001b[39;00m\u001b[39mio\u001b[39;00m \u001b[39mimport\u001b[39;00m to_csv\n\u001b[0;32m-> <a href='file:///opt/homebrew/lib/python3.9/site-packages/dask/dataframe/core.py?line=1649'>1650</a>\u001b[0m \u001b[39mreturn\u001b[39;00m to_csv(\u001b[39mself\u001b[39;49m, filename, \u001b[39m*\u001b[39;49m\u001b[39m*\u001b[39;49mkwargs)\n",
      "File \u001b[0;32m/opt/homebrew/lib/python3.9/site-packages/dask/dataframe/io/csv.py:961\u001b[0m, in \u001b[0;36mto_csv\u001b[0;34m(df, filename, single_file, encoding, mode, name_function, compression, compute, scheduler, storage_options, header_first_partition_only, compute_kwargs, **kwargs)\u001b[0m\n\u001b[1;32m    <a href='file:///opt/homebrew/lib/python3.9/site-packages/dask/dataframe/io/csv.py?line=956'>957</a>\u001b[0m         compute_kwargs[\u001b[39m\"\u001b[39m\u001b[39mscheduler\u001b[39m\u001b[39m\"\u001b[39m] \u001b[39m=\u001b[39m scheduler\n\u001b[1;32m    <a href='file:///opt/homebrew/lib/python3.9/site-packages/dask/dataframe/io/csv.py?line=958'>959</a>\u001b[0m     \u001b[39mimport\u001b[39;00m \u001b[39mdask\u001b[39;00m\n\u001b[0;32m--> <a href='file:///opt/homebrew/lib/python3.9/site-packages/dask/dataframe/io/csv.py?line=960'>961</a>\u001b[0m     \u001b[39mreturn\u001b[39;00m \u001b[39mlist\u001b[39m(dask\u001b[39m.\u001b[39;49mcompute(\u001b[39m*\u001b[39;49mvalues, \u001b[39m*\u001b[39;49m\u001b[39m*\u001b[39;49mcompute_kwargs))\n\u001b[1;32m    <a href='file:///opt/homebrew/lib/python3.9/site-packages/dask/dataframe/io/csv.py?line=961'>962</a>\u001b[0m \u001b[39melse\u001b[39;00m:\n\u001b[1;32m    <a href='file:///opt/homebrew/lib/python3.9/site-packages/dask/dataframe/io/csv.py?line=962'>963</a>\u001b[0m     \u001b[39mreturn\u001b[39;00m values\n",
      "File \u001b[0;32m/opt/homebrew/lib/python3.9/site-packages/dask/base.py:575\u001b[0m, in \u001b[0;36mcompute\u001b[0;34m(traverse, optimize_graph, scheduler, get, *args, **kwargs)\u001b[0m\n\u001b[1;32m    <a href='file:///opt/homebrew/lib/python3.9/site-packages/dask/base.py?line=571'>572</a>\u001b[0m     keys\u001b[39m.\u001b[39mappend(x\u001b[39m.\u001b[39m__dask_keys__())\n\u001b[1;32m    <a href='file:///opt/homebrew/lib/python3.9/site-packages/dask/base.py?line=572'>573</a>\u001b[0m     postcomputes\u001b[39m.\u001b[39mappend(x\u001b[39m.\u001b[39m__dask_postcompute__())\n\u001b[0;32m--> <a href='file:///opt/homebrew/lib/python3.9/site-packages/dask/base.py?line=574'>575</a>\u001b[0m results \u001b[39m=\u001b[39m schedule(dsk, keys, \u001b[39m*\u001b[39;49m\u001b[39m*\u001b[39;49mkwargs)\n\u001b[1;32m    <a href='file:///opt/homebrew/lib/python3.9/site-packages/dask/base.py?line=575'>576</a>\u001b[0m \u001b[39mreturn\u001b[39;00m repack([f(r, \u001b[39m*\u001b[39ma) \u001b[39mfor\u001b[39;00m r, (f, a) \u001b[39min\u001b[39;00m \u001b[39mzip\u001b[39m(results, postcomputes)])\n",
      "File \u001b[0;32m/opt/homebrew/lib/python3.9/site-packages/distributed/client.py:3004\u001b[0m, in \u001b[0;36mClient.get\u001b[0;34m(self, dsk, keys, workers, allow_other_workers, resources, sync, asynchronous, direct, retries, priority, fifo_timeout, actors, **kwargs)\u001b[0m\n\u001b[1;32m   <a href='file:///opt/homebrew/lib/python3.9/site-packages/distributed/client.py?line=3001'>3002</a>\u001b[0m         should_rejoin \u001b[39m=\u001b[39m \u001b[39mFalse\u001b[39;00m\n\u001b[1;32m   <a href='file:///opt/homebrew/lib/python3.9/site-packages/distributed/client.py?line=3002'>3003</a>\u001b[0m \u001b[39mtry\u001b[39;00m:\n\u001b[0;32m-> <a href='file:///opt/homebrew/lib/python3.9/site-packages/distributed/client.py?line=3003'>3004</a>\u001b[0m     results \u001b[39m=\u001b[39m \u001b[39mself\u001b[39;49m\u001b[39m.\u001b[39;49mgather(packed, asynchronous\u001b[39m=\u001b[39;49masynchronous, direct\u001b[39m=\u001b[39;49mdirect)\n\u001b[1;32m   <a href='file:///opt/homebrew/lib/python3.9/site-packages/distributed/client.py?line=3004'>3005</a>\u001b[0m \u001b[39mfinally\u001b[39;00m:\n\u001b[1;32m   <a href='file:///opt/homebrew/lib/python3.9/site-packages/distributed/client.py?line=3005'>3006</a>\u001b[0m     \u001b[39mfor\u001b[39;00m f \u001b[39min\u001b[39;00m futures\u001b[39m.\u001b[39mvalues():\n",
      "File \u001b[0;32m/opt/homebrew/lib/python3.9/site-packages/distributed/client.py:2178\u001b[0m, in \u001b[0;36mClient.gather\u001b[0;34m(self, futures, errors, direct, asynchronous)\u001b[0m\n\u001b[1;32m   <a href='file:///opt/homebrew/lib/python3.9/site-packages/distributed/client.py?line=2175'>2176</a>\u001b[0m \u001b[39melse\u001b[39;00m:\n\u001b[1;32m   <a href='file:///opt/homebrew/lib/python3.9/site-packages/distributed/client.py?line=2176'>2177</a>\u001b[0m     local_worker \u001b[39m=\u001b[39m \u001b[39mNone\u001b[39;00m\n\u001b[0;32m-> <a href='file:///opt/homebrew/lib/python3.9/site-packages/distributed/client.py?line=2177'>2178</a>\u001b[0m \u001b[39mreturn\u001b[39;00m \u001b[39mself\u001b[39;49m\u001b[39m.\u001b[39;49msync(\n\u001b[1;32m   <a href='file:///opt/homebrew/lib/python3.9/site-packages/distributed/client.py?line=2178'>2179</a>\u001b[0m     \u001b[39mself\u001b[39;49m\u001b[39m.\u001b[39;49m_gather,\n\u001b[1;32m   <a href='file:///opt/homebrew/lib/python3.9/site-packages/distributed/client.py?line=2179'>2180</a>\u001b[0m     futures,\n\u001b[1;32m   <a href='file:///opt/homebrew/lib/python3.9/site-packages/distributed/client.py?line=2180'>2181</a>\u001b[0m     errors\u001b[39m=\u001b[39;49merrors,\n\u001b[1;32m   <a href='file:///opt/homebrew/lib/python3.9/site-packages/distributed/client.py?line=2181'>2182</a>\u001b[0m     direct\u001b[39m=\u001b[39;49mdirect,\n\u001b[1;32m   <a href='file:///opt/homebrew/lib/python3.9/site-packages/distributed/client.py?line=2182'>2183</a>\u001b[0m     local_worker\u001b[39m=\u001b[39;49mlocal_worker,\n\u001b[1;32m   <a href='file:///opt/homebrew/lib/python3.9/site-packages/distributed/client.py?line=2183'>2184</a>\u001b[0m     asynchronous\u001b[39m=\u001b[39;49masynchronous,\n\u001b[1;32m   <a href='file:///opt/homebrew/lib/python3.9/site-packages/distributed/client.py?line=2184'>2185</a>\u001b[0m )\n",
      "File \u001b[0;32m/opt/homebrew/lib/python3.9/site-packages/distributed/utils.py:318\u001b[0m, in \u001b[0;36mSyncMethodMixin.sync\u001b[0;34m(self, func, asynchronous, callback_timeout, *args, **kwargs)\u001b[0m\n\u001b[1;32m    <a href='file:///opt/homebrew/lib/python3.9/site-packages/distributed/utils.py?line=315'>316</a>\u001b[0m     \u001b[39mreturn\u001b[39;00m future\n\u001b[1;32m    <a href='file:///opt/homebrew/lib/python3.9/site-packages/distributed/utils.py?line=316'>317</a>\u001b[0m \u001b[39melse\u001b[39;00m:\n\u001b[0;32m--> <a href='file:///opt/homebrew/lib/python3.9/site-packages/distributed/utils.py?line=317'>318</a>\u001b[0m     \u001b[39mreturn\u001b[39;00m sync(\n\u001b[1;32m    <a href='file:///opt/homebrew/lib/python3.9/site-packages/distributed/utils.py?line=318'>319</a>\u001b[0m         \u001b[39mself\u001b[39;49m\u001b[39m.\u001b[39;49mloop, func, \u001b[39m*\u001b[39;49margs, callback_timeout\u001b[39m=\u001b[39;49mcallback_timeout, \u001b[39m*\u001b[39;49m\u001b[39m*\u001b[39;49mkwargs\n\u001b[1;32m    <a href='file:///opt/homebrew/lib/python3.9/site-packages/distributed/utils.py?line=319'>320</a>\u001b[0m     )\n",
      "File \u001b[0;32m/opt/homebrew/lib/python3.9/site-packages/distributed/utils.py:381\u001b[0m, in \u001b[0;36msync\u001b[0;34m(loop, func, callback_timeout, *args, **kwargs)\u001b[0m\n\u001b[1;32m    <a href='file:///opt/homebrew/lib/python3.9/site-packages/distributed/utils.py?line=378'>379</a>\u001b[0m \u001b[39melse\u001b[39;00m:\n\u001b[1;32m    <a href='file:///opt/homebrew/lib/python3.9/site-packages/distributed/utils.py?line=379'>380</a>\u001b[0m     \u001b[39mwhile\u001b[39;00m \u001b[39mnot\u001b[39;00m e\u001b[39m.\u001b[39mis_set():\n\u001b[0;32m--> <a href='file:///opt/homebrew/lib/python3.9/site-packages/distributed/utils.py?line=380'>381</a>\u001b[0m         wait(\u001b[39m10\u001b[39;49m)\n\u001b[1;32m    <a href='file:///opt/homebrew/lib/python3.9/site-packages/distributed/utils.py?line=382'>383</a>\u001b[0m \u001b[39mif\u001b[39;00m error:\n\u001b[1;32m    <a href='file:///opt/homebrew/lib/python3.9/site-packages/distributed/utils.py?line=383'>384</a>\u001b[0m     typ, exc, tb \u001b[39m=\u001b[39m error\n",
      "File \u001b[0;32m/opt/homebrew/lib/python3.9/site-packages/distributed/utils.py:370\u001b[0m, in \u001b[0;36msync.<locals>.wait\u001b[0;34m(timeout)\u001b[0m\n\u001b[1;32m    <a href='file:///opt/homebrew/lib/python3.9/site-packages/distributed/utils.py?line=367'>368</a>\u001b[0m \u001b[39mdef\u001b[39;00m \u001b[39mwait\u001b[39m(timeout):\n\u001b[1;32m    <a href='file:///opt/homebrew/lib/python3.9/site-packages/distributed/utils.py?line=368'>369</a>\u001b[0m     \u001b[39mtry\u001b[39;00m:\n\u001b[0;32m--> <a href='file:///opt/homebrew/lib/python3.9/site-packages/distributed/utils.py?line=369'>370</a>\u001b[0m         \u001b[39mreturn\u001b[39;00m e\u001b[39m.\u001b[39;49mwait(timeout)\n\u001b[1;32m    <a href='file:///opt/homebrew/lib/python3.9/site-packages/distributed/utils.py?line=370'>371</a>\u001b[0m     \u001b[39mexcept\u001b[39;00m \u001b[39mKeyboardInterrupt\u001b[39;00m:\n\u001b[1;32m    <a href='file:///opt/homebrew/lib/python3.9/site-packages/distributed/utils.py?line=371'>372</a>\u001b[0m         loop\u001b[39m.\u001b[39madd_callback(cancel)\n",
      "File \u001b[0;32m/opt/homebrew/Cellar/python@3.9/3.9.12/Frameworks/Python.framework/Versions/3.9/lib/python3.9/threading.py:574\u001b[0m, in \u001b[0;36mEvent.wait\u001b[0;34m(self, timeout)\u001b[0m\n\u001b[1;32m    <a href='file:///opt/homebrew/Cellar/python%403.9/3.9.12/Frameworks/Python.framework/Versions/3.9/lib/python3.9/threading.py?line=571'>572</a>\u001b[0m signaled \u001b[39m=\u001b[39m \u001b[39mself\u001b[39m\u001b[39m.\u001b[39m_flag\n\u001b[1;32m    <a href='file:///opt/homebrew/Cellar/python%403.9/3.9.12/Frameworks/Python.framework/Versions/3.9/lib/python3.9/threading.py?line=572'>573</a>\u001b[0m \u001b[39mif\u001b[39;00m \u001b[39mnot\u001b[39;00m signaled:\n\u001b[0;32m--> <a href='file:///opt/homebrew/Cellar/python%403.9/3.9.12/Frameworks/Python.framework/Versions/3.9/lib/python3.9/threading.py?line=573'>574</a>\u001b[0m     signaled \u001b[39m=\u001b[39m \u001b[39mself\u001b[39;49m\u001b[39m.\u001b[39;49m_cond\u001b[39m.\u001b[39;49mwait(timeout)\n\u001b[1;32m    <a href='file:///opt/homebrew/Cellar/python%403.9/3.9.12/Frameworks/Python.framework/Versions/3.9/lib/python3.9/threading.py?line=574'>575</a>\u001b[0m \u001b[39mreturn\u001b[39;00m signaled\n",
      "File \u001b[0;32m/opt/homebrew/Cellar/python@3.9/3.9.12/Frameworks/Python.framework/Versions/3.9/lib/python3.9/threading.py:316\u001b[0m, in \u001b[0;36mCondition.wait\u001b[0;34m(self, timeout)\u001b[0m\n\u001b[1;32m    <a href='file:///opt/homebrew/Cellar/python%403.9/3.9.12/Frameworks/Python.framework/Versions/3.9/lib/python3.9/threading.py?line=313'>314</a>\u001b[0m \u001b[39melse\u001b[39;00m:\n\u001b[1;32m    <a href='file:///opt/homebrew/Cellar/python%403.9/3.9.12/Frameworks/Python.framework/Versions/3.9/lib/python3.9/threading.py?line=314'>315</a>\u001b[0m     \u001b[39mif\u001b[39;00m timeout \u001b[39m>\u001b[39m \u001b[39m0\u001b[39m:\n\u001b[0;32m--> <a href='file:///opt/homebrew/Cellar/python%403.9/3.9.12/Frameworks/Python.framework/Versions/3.9/lib/python3.9/threading.py?line=315'>316</a>\u001b[0m         gotit \u001b[39m=\u001b[39m waiter\u001b[39m.\u001b[39;49macquire(\u001b[39mTrue\u001b[39;49;00m, timeout)\n\u001b[1;32m    <a href='file:///opt/homebrew/Cellar/python%403.9/3.9.12/Frameworks/Python.framework/Versions/3.9/lib/python3.9/threading.py?line=316'>317</a>\u001b[0m     \u001b[39melse\u001b[39;00m:\n\u001b[1;32m    <a href='file:///opt/homebrew/Cellar/python%403.9/3.9.12/Frameworks/Python.framework/Versions/3.9/lib/python3.9/threading.py?line=317'>318</a>\u001b[0m         gotit \u001b[39m=\u001b[39m waiter\u001b[39m.\u001b[39macquire(\u001b[39mFalse\u001b[39;00m)\n",
      "\u001b[0;31mKeyboardInterrupt\u001b[0m: "
     ]
    }
   ],
   "source": [
    "for year in range(2022, 2023):\n",
    "    year = str(year)\n",
    "    path = \"./data/\" + year\n",
    "\n",
    "    if not os.path.exists(path):\n",
    "        os.mkdir(path)\n",
    "\n",
    "    for key, station_row in open_station.iterrows():\n",
    "        wban = str(station_row.WBAN);\n",
    "\n",
    "        while (len(wban) < 5):\n",
    "            wban = '0' + wban\n",
    "\n",
    "        station  = str(station_row.USAF) + wban\n",
    "\n",
    "        if not os.path.exists(path + \"/\" + station + \".csv\"):\n",
    "            url = 'https://www.ncei.noaa.gov/data/global-hourly/access/' + year + '/' + station + '.csv'\n",
    "\n",
    "            if (requests.get(url).status_code == 200):\n",
    "                #df = pd.read_csv(url)\n",
    "                ddf = dd.read_csv(url, dtype='object')\n",
    "                ddf.to_csv(path + \"/\" + station + \".csv\", index=True, single_file = True)\n",
    "                #df = pd.read_csv(url).to_csv(path + \"/\" + station + \".csv\", index=True)\n",
    "                #sleep(1)"
   ]
  },
  {
   "cell_type": "code",
   "execution_count": null,
   "id": "d2e2e8e1",
   "metadata": {},
   "outputs": [],
   "source": [
    "\n",
    "\n",
    "for year in range(2022, 2023):\n",
    "    year = str(year)\n",
    "    path = \"./data/\" + year\n",
    "\n",
    "    for key, station_row in open_station.iterrows():\n",
    "        wban = str(station_row.WBAN);\n",
    "\n",
    "        while (len(wban) < 5):\n",
    "            wban = '0' + wban\n",
    "\n",
    "        station  = str(station_row.USAF) + wban\n",
    "\n",
    "        if os.path.exists(path + \"/\" + station + \".csv\"):\n",
    "            #df = pd.read_csv(path + \"/\" + station + \".csv\")\n",
    "            #print(df.dtypes)\n",
    "            df = dd.read_csv(path + \"/\" + station + \".csv\", dtype=dtypes)\n",
    "            \n",
    "            \n",
    "            #df = dd.read_csv(path + \"/\" + station + \".csv\")\n",
    "            #df.head()\n"
   ]
  },
  {
   "cell_type": "markdown",
   "id": "decf4375",
   "metadata": {},
   "source": []
  },
  {
   "cell_type": "markdown",
   "id": "0af2b66b",
   "metadata": {},
   "source": [
    "# Clean dataframe"
   ]
  },
  {
   "cell_type": "code",
   "execution_count": null,
   "id": "89888ec6",
   "metadata": {},
   "outputs": [],
   "source": [
    "big_frame['TMP_control'] = big_frame['TMP'].str.split(pat=',', expand=True)[1]\n",
    "big_frame['TMP_test'] = big_frame['TMP'].str.split(pat=',', expand=True)[0]\n",
    "big_frame['TMP_sign'] = big_frame['TMP'].astype(str).str[0]\n",
    "big_frame['TMP_final'] = (big_frame['TMP_test'].astype(str).str[1:4] + \".\" + big_frame['TMP_test'].astype(str).str[4:]).astype(float)\n",
    "big_frame['DATE'] = pd.to_datetime(big_frame['DATE'], format=\"%Y-%m-%dT%H:%M:%S\")\n",
    "big_frame = big_frame[big_frame['TMP_control'] == \"1\"]"
   ]
  },
  {
   "cell_type": "code",
   "execution_count": null,
   "id": "5e443ca0",
   "metadata": {},
   "outputs": [],
   "source": [
    "big_frame['TMP_sign'].replace({\"+\": 1, \"-\": -1}, inplace=True)\n",
    "big_frame['TMP_final'] = big_frame['TMP_sign'] * big_frame['TMP_final']\n",
    "big_frame"
   ]
  },
  {
   "cell_type": "code",
   "execution_count": null,
   "id": "2c278ae0",
   "metadata": {},
   "outputs": [],
   "source": [
    "cleaned_frame = big_frame[[\"NAME\", \"TMP_final\", \"LATITUDE\", \"LONGITUDE\", \"DATE\"]]\n",
    "cleaned_frame"
   ]
  },
  {
   "cell_type": "markdown",
   "id": "0e4604e1",
   "metadata": {},
   "source": [
    "# Statistiques globales de température (moy, min, max)"
   ]
  },
  {
   "cell_type": "code",
   "execution_count": null,
   "id": "eac8f3a5",
   "metadata": {},
   "outputs": [],
   "source": [
    "temp = cleaned_frame.groupby(by=\"NAME\").agg({'TMP_final': ['mean', 'min', 'max'], \"LATITUDE\": \"first\", \"LONGITUDE\": \"first\"})\n",
    "temp"
   ]
  },
  {
   "cell_type": "code",
   "execution_count": null,
   "id": "1ebd24d0",
   "metadata": {},
   "outputs": [],
   "source": [
    "#for year in range(2022, 2023):\n",
    "#    year = str(year)\n",
    "#    path = \"./data/\" + year\n",
    "\n",
    "#    if not os.path.exists(path):\n",
    "#        os.mkdir(path)\n",
    "\n",
    "#    for key, station_row in open_station.iterrows():\n",
    "#        wban = str(station_row.WBAN);\n",
    "\n",
    "#        while (len(wban) < 5):\n",
    "#            wban = '0' + wban\n",
    "\n",
    "#        station  = str(station_row.USAF) + wban\n",
    "\n",
    "#        if not os.path.exists(path + \"/\" + station + \".csv\"):\n",
    "#            url = 'https://www.ncei.noaa.gov/data/global-hourly/access/' + year + '/' + station + '.csv'\n",
    "\n",
    "#            if (requests.get(url).status_code == 200):\n",
    "#                pd.read_csv(url).to_csv(path + \"/\" + station + \".csv\")\n",
    "\n",
    "#            spark.sparkContext.addFile('https://www.ncei.noaa.gov/data/global-hourly/access/' + year + '/' + station + '.csv')\n",
    "\n",
    "#            if (SparkFiles.get(station + \".csv\")):\n",
    "#                df = spark.read.csv(\"file://\"+SparkFiles.get(station + \".csv\"), header=True)\n",
    "\n",
    "#                print(\"hdfs://namenode:9000/noaa/\" + year + \"/\" + station + \".csv\")\n",
    "#                df.write.format(\"csv\").save(\"hdfs://namenode:9000/noaa/\" + year + \"/\" + station + \".csv\")\n",
    "\n",
    "#for year in range(2022, 2023):\n",
    "\n",
    "#    for key, station_row in open_station.iterrows():\n",
    "#        wban = str(station_row.WBAN);\n",
    "\n",
    "#        while (len(wban) < 5):\n",
    "#            wban = '0' + wban\n",
    "\n",
    "#        station  = str(station_row.USAF) + wban\n",
    "        \n",
    "#        df = spark.read.csv(\"hdfs://namenode:9000/noaa/\" + str(year) + \"/\" + station + \".csv\", header=True)\n",
    "#df = spark.read.csv(\"hdfs://namenode:9000/noaa/2022/72026853882.csv\", header=True)\n",
    "#df.take(5)"
   ]
  }
 ],
 "metadata": {
  "kernelspec": {
   "display_name": "Python 3 (ipykernel)",
   "language": "python",
   "name": "python3"
  },
  "language_info": {
   "codemirror_mode": {
    "name": "ipython",
    "version": 3
   },
   "file_extension": ".py",
   "mimetype": "text/x-python",
   "name": "python",
   "nbconvert_exporter": "python",
   "pygments_lexer": "ipython3",
   "version": "3.8.9"
  }
 },
 "nbformat": 4,
 "nbformat_minor": 5
}
